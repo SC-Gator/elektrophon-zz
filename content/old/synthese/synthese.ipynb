{
 "cells": [
  {
   "cell_type": "code",
   "execution_count": null,
   "metadata": {
    "tags": []
   },
   "outputs": [],
   "source": [
    "# Just the normal prequisites for using matplotlib and numpy in a Jupyter notebook\n",
    "%matplotlib inline\n",
    "# Use the svg backend, in my opinion it just makes better looking plots\n",
    "%config InlineBackend.figure_format = 'svg'\n",
    "%load_ext itikz\n",
    "\n",
    "import PySpice.Logging.Logging as Logging\n",
    "logger = Logging.setup_logging( logging_level='CRITICAL')\n",
    "\n",
    "import os\n",
    "import sys\n",
    "from pathlib import Path\n",
    "import IPython\n",
    "from scipy import signal\n",
    "import scipy.fftpack\n",
    "from PySpice.Unit import *\n",
    "from PySpice.Spice.Parser import SpiceParser\n",
    "from PySpice.Spice.Netlist import Circuit, SubCircuit, SubCircuitFactory\n",
    "from PySpice.Spice.Library import SpiceLibrary\n",
    "from PySpice.Probe.Plot import plot\n",
    "from PySpice.Doc.ExampleTools import find_libraries\n",
    "from PySpice.Math import *\n",
    "import matplotlib.pyplot as plt\n",
    "import matplotlib.image as mpimg\n",
    "import numpy as np\n",
    "import matplotlib.pyplot as plt\n",
    "import unittest\n",
    "\n",
    "import schemdraw\n",
    "import schemdraw.elements as elm\n",
    "from schemdraw import logic\n",
    "from schemdraw import dsp\n",
    "\n",
    "directory_path = Path(os.path.abspath('')).resolve().parent.parent\n",
    "spice_libraries_path = directory_path.joinpath(\"lib\", \"spice\")\n",
    "spice_library = SpiceLibrary(spice_libraries_path)\n",
    "\n",
    "directory_path = Path(os.path.abspath('')).resolve()\n",
    "\n",
    "import json\n",
    "from IPython.display import display, HTML\n",
    "from IPython.display import Javascript\n",
    "\n",
    "display(HTML('''\n",
    "<script src=\"https://cdnjs.cloudflare.com/ajax/libs/Chart.js/3.5.0/chart.min.js\" integrity=\"sha512-asxKqQghC1oBShyhiBwA+YgotaSYKxGP1rcSYTDrB0U6DxwlJjU59B67U8+5/++uFjcuVM8Hh5cokLjZlhm3Vg==\" crossorigin=\"anonymous\" referrerpolicy=\"no-referrer\"></script>\n",
    "'''))"
   ]
  },
  {
   "cell_type": "markdown",
   "metadata": {},
   "source": [
    "# wavetable synthesis\n",
    "\n",
    "Wavetable synthesis is a very simple approach to reproduce a periodic waveform with a microprocessor. Calculating a periodic waveform is a ressource intensive task. All the values in the waveform a pre-calculated and stored in a table (the wave table). all that has to be done now, is to replay this values and send it to a digital to analog converter (DAC).\n",
    "\n",
    "The wavetable contains one cycle of the waveform. to get a continous waveform the values are played in a loop."
   ]
  },
  {
   "cell_type": "code",
   "execution_count": null,
   "metadata": {},
   "outputs": [],
   "source": [
    "wavetable = []\n",
    "linespace = np.arange(0, 1, (1/1024))\n",
    "for s in linespace :\n",
    "    wavetable.append(np.sin(2*np.pi*s))\n",
    "    \n",
    "print(len(wavetable))"
   ]
  },
  {
   "cell_type": "code",
   "execution_count": null,
   "metadata": {},
   "outputs": [],
   "source": [
    "fig_buffer, ax1_buffer = plt.subplots()\n",
    "\n",
    "ax1_buffer.set_xlabel('time [ms]')\n",
    "ax1_buffer.set_ylabel('amplitude [V]')\n",
    "ax1_buffer.plot(linespace, wavetable, color='Red')\n",
    "\n",
    "ax1_buffer.legend('wave', loc=(0.75,0.8))\n",
    "\n",
    "plt.tight_layout()\n",
    "plt.show()"
   ]
  },
  {
   "cell_type": "code",
   "execution_count": null,
   "metadata": {},
   "outputs": [],
   "source": [
    "time = 1/440\n",
    "sample_time = 1/(440*1024)\n",
    "sample_rate = 1/sample_time\n",
    "print(time)\n",
    "print(sample_time)\n",
    "print(sample_rate)\n"
   ]
  },
  {
   "cell_type": "markdown",
   "metadata": {},
   "source": [
    "the frequency of the signal is given by the time that is used to replay this waveform. This waveform has 1024 entries. if it should be a 440 Hz tone. The time to play one cycle is 1/440=0.0022727272727272726s. so there must be a value written to the DAC every 1/(440*1024)=450.56Hz."
   ]
  },
  {
   "cell_type": "code",
   "execution_count": null,
   "metadata": {},
   "outputs": [],
   "source": [
    "from IPython.display import Audio\n",
    "wave_audio = []\n",
    "linespace = np.arange(0, 1000, (1/1024))\n",
    "for s in linespace :\n",
    "    wave_audio.append(np.sin(2*np.pi*s))\n",
    "\n",
    "print(len(wave_audio))\n",
    "Audio(wave_audio, rate=sample_rate)"
   ]
  },
  {
   "cell_type": "code",
   "execution_count": null,
   "metadata": {},
   "outputs": [],
   "source": [
    "time = 1/440\n",
    "sample_time = 1/(220*1024)\n",
    "sample_rate = 1/sample_time\n",
    "print(time)\n",
    "print(sample_time)\n",
    "print(sample_rate)\n"
   ]
  },
  {
   "cell_type": "markdown",
   "metadata": {},
   "source": [
    "One way to change the pitch is to change the sample frequency. lets say we want to play the waveform one octave below the frequency is 220Hz and therefore the sample freqency 225.280kHz."
   ]
  },
  {
   "cell_type": "code",
   "execution_count": null,
   "metadata": {},
   "outputs": [],
   "source": [
    "wave_audio = []\n",
    "linespace = np.arange(0, 1000, (1/1024))\n",
    "for s in linespace :\n",
    "    wave_audio.append(np.sin(2*np.pi*s))\n",
    "\n",
    "print(len(wave_audio))\n",
    "Audio(wave_audio, rate=sample_rate)"
   ]
  },
  {
   "cell_type": "markdown",
   "metadata": {},
   "source": [
    "# Direct digital Synthesis\n",
    "\n",
    "to change the sample frequency is not a practical way to change the pitch. The sample frequency can not be set accurate enough in a microprossesor and when a polyponic instrument is built.\n",
    "\n",
    "Another way of chaning the pitch is to not play all values or play then multiple times. This is the basic concept of DDS. DDS provides an efficient algorithm to change the pitch. DDS is often described with a circle. "
   ]
  },
  {
   "cell_type": "code",
   "execution_count": null,
   "metadata": {},
   "outputs": [],
   "source": [
    "wavetable = []\n",
    "tunes = ''\n",
    "\n",
    "tunes += \"uint16_t wavetable[1024] = {\"\n",
    "\n",
    "rows = 0\n",
    "linespace = np.arange(0, 1, (1/1024))\n",
    "for s in linespace :\n",
    "    tunes += \"% .0d, \" %((np.sin(2*np.pi*s)+1) * 2048 )\n",
    "    if rows > 7 :\n",
    "      rows = 0\n",
    "      tunes += \"\\r\\n\"\n",
    "    rows = rows + 1\n",
    "\n",
    "tunes += \"};\"\n",
    "\n",
    "display(HTML('''\n",
    "<pre>%s</pre>\n",
    "''' % tunes ))"
   ]
  },
  {
   "cell_type": "code",
   "execution_count": null,
   "metadata": {},
   "outputs": [],
   "source": [
    "print(360/120*119)"
   ]
  },
  {
   "cell_type": "code",
   "execution_count": null,
   "metadata": {},
   "outputs": [],
   "source": [
    "%%itikz --temp-dir \n",
    "\\documentclass[tikz]{standalone}\n",
    "\\usetikzlibrary{arrows.meta}\n",
    "\\begin{document}\n",
    "\\begin{tikzpicture}[scale=4]\n",
    "\n",
    "\\fontsize{0.35cm}{0.35cm}\\selectfont \\sffamily\n",
    "\\foreach \\angle in {0,30,60,...,330}\n",
    "    \\draw[line width=1pt] (\\angle:1.6cm) -- (\\angle:2cm);\n",
    "    \n",
    "\\foreach \\angle in {0,3,6,...,357}\n",
    "    \\draw[line width=1pt] (\\angle:2cm) -- (\\angle:2.5cm);\n",
    "\n",
    "\\foreach \\angle in {0,30,60,...,330}\n",
    "    \\draw[line width=1pt,red] (\\angle:2.6cm) -- (\\angle:2.7cm);\n",
    "\n",
    "\\foreach \\angle in {0,15,30,...,345}\n",
    "    \\draw[line width=1pt,blue] (\\angle:2.8cm) -- (\\angle:2.9cm);\n",
    "\n",
    "\\foreach \\angle in {0,60,120,...,300}\n",
    "    \\draw[line width=1pt,green] (\\angle:3.0cm) -- (\\angle:3.1cm);\n",
    "\n",
    "\\draw[line width=2pt] (0,0) circle (2);\n",
    "\\draw[line width=2pt] (0,0) circle (2.5);\n",
    "\n",
    "\\draw (0,0) -- ++(30:2cm)\n",
    "      (0,0) -- ++(60:2cm);\n",
    "    \n",
    "\\end{tikzpicture}\n",
    "\\end{document}\n",
    "\n"
   ]
  },
  {
   "cell_type": "markdown",
   "metadata": {},
   "source": [
    "In the circle we would have a wavetable with 12 samples. To make the picture a little bit clearer the number of samples is reduced. The outer ring is the phase accumulator. The accumulator has more steps then the wavetable, here every step in the table has 10 steps in the accumulator. we use the accumulator to derive the entry in the table. if we want to play a 440Hz note. we have to add 10 to the accumulator. as a result every value is played once. If the pitch is 220Hz we add five and play every value twice and for 880Hz we add twenty and skip every other value.  \n",
    "\n",
    "\n",
    "to get the right value we will have to calculate the increment of the accumulator first. "
   ]
  },
  {
   "cell_type": "code",
   "execution_count": null,
   "metadata": {},
   "outputs": [],
   "source": [
    "tunes = ''\n",
    "rows = 0;\n",
    "tunes += \"uint32_t tunes[256] = {\"\n",
    "for i in range(256):\n",
    "    note = 1.0\n",
    "    note = 440.0*((2.0)**(1.0/12.0))**(i-69.0)  \n",
    "    increment = pow(2, 32) * note / (40000)\n",
    "    tunes += \"% .0f, \" %(increment)\n",
    "    if rows > 7 :\n",
    "      rows = 0\n",
    "      tunes += \"\\r\\n\"\n",
    "    rows = rows + 1\n",
    "\n",
    "tunes += \"};\"\n",
    "\n",
    "display(HTML('''\n",
    "<pre>%s</pre>\n",
    "''' % tunes ))"
   ]
  },
  {
   "cell_type": "code",
   "execution_count": null,
   "metadata": {},
   "outputs": [],
   "source": [
    "a_tunes = []\n",
    "for i in range(256):\n",
    "    note = 1.0\n",
    "    note = 440.0*((2.0)**(1.0/12.0))**(i-69.0)  \n",
    "    increment = pow(2, 32) * note / (40000)\n",
    "    a_tunes.append(increment)\n",
    "\n",
    "print(a_tunes[69])\n",
    "print(pow(2, 32))\n",
    "print(pow(2, 32) >> 22 )"
   ]
  },
  {
   "cell_type": "markdown",
   "metadata": {},
   "source": [
    "The midi note for A (440Hz) is 69, so the increment for the accumulator is 47244640.256.\n",
    "\n",
    "lets try that alltogheter."
   ]
  },
  {
   "cell_type": "code",
   "execution_count": null,
   "metadata": {},
   "outputs": [],
   "source": [
    "result = []\n",
    "result2 = []\n",
    "accumulator = int(0)\n",
    "accumulator_steps = int(pow(2, 32))\n",
    "\n",
    "#for i in np.arange(0,200) :\n",
    "#    acc = (accumulator >> 22)\n",
    "#    result.append(wavetable[acc])\n",
    "#    accumulator += int(a_tunes[69])\n",
    "#    if accumulator > accumulator_steps :\n",
    "#        accumulator =  accumulator - accumulator_steps\n",
    "        \n",
    "accumulator = int(0)\n",
    "#for i in np.arange(0,200) :\n",
    "#    acc = (accumulator >> 22)\n",
    "#    result2.append(wavetable[acc])\n",
    "#    accumulator += int(a_tunes[57])\n",
    "#    if accumulator > accumulator_steps :\n",
    "#        accumulator =  accumulator - accumulator_steps\n",
    "        \n",
    "fig_buffer, ax1_buffer = plt.subplots()\n",
    "\n",
    "ax1_buffer.set_xlabel('time [ms]')\n",
    "ax1_buffer.set_ylabel('amplitude [V]')\n",
    "#ax1_buffer.plot(np.arange(0,200), result, color='Red')\n",
    "#ax1_buffer.plot(np.arange(0,200), result2, color='Blue')\n",
    "\n",
    "ax1_buffer.legend(('440Hz', '220Hz'), loc=(0.75,0.8))\n",
    "\n",
    "plt.tight_layout()\n",
    "plt.show()        "
   ]
  },
  {
   "cell_type": "markdown",
   "metadata": {},
   "source": [
    "# STM32 implementation\n",
    "\n",
    "\n"
   ]
  },
  {
   "cell_type": "markdown",
   "metadata": {},
   "source": [
    "# references\n",
    "\n",
    "- [Elliot Williams](https://hackaday.com/2016/02/12/embed-with-elliot-audio-playback-with-direct-digital-synthesis) AUDIO PLAYBACK WITH DIRECT DIGITAL SYNTHESIS\n"
   ]
  }
 ],
 "metadata": {
  "FrontMatter": {
   "author": "spielhuus",
   "category": "article",
   "date": "2021-09-12",
   "excerpt": "Direct Digital synthesis (DDS) is a technique to efficently create sounds from a mocroprocessor. The basic concept is explained and it is analysed if this technique can be used to create a FM-Synth.",
   "hero_darken": true,
   "hero_height": "is-fullheight",
   "hero_image": "/assets/cd4069.jpg",
   "hero_mobile": "/assets/arbeitsplatz-hero_portrait.jpg",
   "hero_subtitle": true,
   "hero_title": true,
   "image": "/assets/cd4069.jpg",
   "layout": "article",
   "subtitle": "Direct Digital synthesis (DDS).",
   "tag": "grundlage",
   "title": "synthese",
   "version": "0"
  },
  "kernelspec": {
   "display_name": "Python 3 (ipykernel)",
   "language": "python",
   "name": "python3"
  },
  "language_info": {
   "codemirror_mode": {
    "name": "ipython",
    "version": 3
   },
   "file_extension": ".py",
   "mimetype": "text/x-python",
   "name": "python",
   "nbconvert_exporter": "python",
   "pygments_lexer": "ipython3",
   "version": "3.9.6"
  }
 },
 "nbformat": 4,
 "nbformat_minor": 4
}
