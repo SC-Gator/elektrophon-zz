{
 "cells": [
  {
   "cell_type": "code",
   "execution_count": null,
   "metadata": {},
   "outputs": [],
   "source": [
    "# Just the normal prequisites for using matplotlib and numpy in a Jupyter notebook\n",
    "%matplotlib inline\n",
    "# Use the svg backend, in my opinion it just makes better looking plots\n",
    "%config InlineBackend.figure_format = 'svg'\n",
    "\n",
    "import IPython.display as ipd\n",
    "\n",
    "import numpy as np\n",
    "from sympy import symbols, sqrt, exp, diff, integrate, pprint, simplify, Eq, preview, pi, solve\n"
   ]
  },
  {
   "cell_type": "markdown",
   "metadata": {},
   "source": [
    "# *midi scales*"
   ]
  },
  {
   "cell_type": "markdown",
   "metadata": {},
   "source": [
    "### *calculate frequency from midi note*\n",
    "\n"
   ]
  },
  {
   "cell_type": "code",
   "execution_count": null,
   "metadata": {},
   "outputs": [],
   "source": [
    "f, a, n = symbols('f,a,n', real=True)\n",
    "freq = (a * 2) ** ((n-69)/12)\n",
    "print(freq)\n",
    "#Eq( freq, f)\n"
   ]
  },
  {
   "cell_type": "markdown",
   "metadata": {},
   "source": [
    "|Implementation / Note\t |A1  |A2\t |A3\t|B3\t |C4\t|D4\t |E4\t|A4\t|A5|\n",
    "| --- | --- | --- | --- | --- | --- | --- | --- | --- | ---- |\n",
    "|Volts/octave (V)|\t1.000|\t2.000|\t3.000|\t3.167|\t3.250|\t3.417|\t3.583|\t4.000|\t5.000|\n",
    "|Hertz/volt (V)|\t1.000|\t2.000|\t4.000|\t4.490|\t4.757|\t5.339|\t5.993|\t8.000|\t16.000|"
   ]
  },
  {
   "cell_type": "code",
   "execution_count": null,
   "metadata": {},
   "outputs": [],
   "source": []
  },
  {
   "cell_type": "markdown",
   "metadata": {},
   "source": [
    "The voltages are linked by the formula \n"
   ]
  },
  {
   "cell_type": "markdown",
   "metadata": {},
   "source": [
    "$$\n",
    "\\begin{array}{c}\n",
    "V_{hz}=2^{V_{oct}-1}\n",
    "\\end{array}\n",
    "$$\n"
   ]
  },
  {
   "cell_type": "markdown",
   "metadata": {},
   "source": [
    "which can also be written "
   ]
  },
  {
   "cell_type": "markdown",
   "metadata": {},
   "source": [
    "$$\n",
    "\\begin{array}{c}\n",
    "V_{oct} = ln_{2}(V_{hz})+1\n",
    "\\end{array}\n",
    "$$"
   ]
  },
  {
   "cell_type": "markdown",
   "metadata": {},
   "source": [
    "$$\n",
    "f = 2^{(d-69)/12} \\cdot 440\\ \\mathrm{Hz} \\, \n",
    "$$"
   ]
  },
  {
   "cell_type": "code",
   "execution_count": null,
   "metadata": {},
   "outputs": [],
   "source": [
    "notes = [ \n",
    "    'C', 'C#/Db ', 'D', 'D#/Eb ', 'E', 'F', 'F#/Gb ', 'G', 'G#/Ab', 'A', 'A#/Bb ', 'B', \n",
    "    'C', 'C#/Db ', 'D', 'D#/Eb ', 'E', 'F', 'F#/Gb ', 'G', 'G#/Ab', 'A', 'A#/Bb ', 'B', \n",
    "    'C', 'C#/Db ', 'D', 'D#/Eb ', 'E', 'F', 'F#/Gb ', 'G', 'G#/Ab', 'A', 'A#/Bb ', 'B', \n",
    "    'C', 'C#/Db ', 'D', 'D#/Eb ', 'E', 'F', 'F#/Gb ', 'G', 'G#/Ab', 'A', 'A#/Bb ', 'B', \n",
    "    'C', 'C#/Db ', 'D', 'D#/Eb ', 'E', 'F', 'F#/Gb ', 'G', 'G#/Ab', 'A', 'A#/Bb ', 'B', \n",
    "    'C', 'C#/Db ', 'D', 'D#/Eb ', 'E', 'F', 'F#/Gb ', 'G', 'G#/Ab', 'A', 'A#/Bb ', 'B', \n",
    "    'C', 'C#/Db ', 'D', 'D#/Eb ', 'E', 'F', 'F#/Gb ', 'G', 'G#/Ab', 'A', 'A#/Bb ', 'B', \n",
    "    'C', 'C#/Db ', 'D', 'D#/Eb ', 'E', 'F', 'F#/Gb ', 'G', 'G#/Ab', 'A', 'A#/Bb ', 'B', \n",
    "    'C', 'C#/Db ', 'D', 'D#/Eb ', 'E', 'F', 'F#/Gb ', 'G', 'G#/Ab', 'A', 'A#/Bb ', 'B', \n",
    "    'C', 'C#/Db ', 'D', 'D#/Eb ', 'E', 'F', 'F#/Gb ', 'G', 'G#/Ab', 'A', 'A#/Bb ', 'B', \n",
    "    'C', 'C#/Db ', 'D', 'D#/Eb ', 'E', 'F', 'F#/Gb ', 'G', 'G#/Ab', 'A', 'A#/Bb ', 'B'\n",
    "]\n",
    "\n",
    "octaves = [\n",
    "    '-5', '-5 ', '-5', '-5 ', '-5', '-5', '-5 ', '-5', '-5', '-5', '-5 ', '-5', \n",
    "    '-4', '-4 ', '-4', '-4 ', '-4', '-4', '-4 ', '-4', '-4', '-4', '-4 ', '-4', \n",
    "    '-3', '-3 ', '-3', '-3 ', '-3', '-3', '-3 ', '-3', '-3', '-3', '-3 ', '-3', \n",
    "    '-2', '-2 ', '-2', '-2 ', '-2', '-2', '-2 ', '-2', '-2', '-2', '-2 ', '-2', \n",
    "    '-1', '-1 ', '-1', '-1 ', '-1', '-1', '-1 ', '-1', '-1', '-1', '-1 ', '-1', \n",
    "    '0', '0 ', '0', '0 ', '0', '0', '0 ', '0', '0', '0', '0 ', '0', \n",
    "    '1', '1 ', '1', '1 ', '1', '1', '1 ', '1', '1', '1', '1 ', '1', \n",
    "    '2', '2 ', '2', '2 ', '2', '2', '2 ', '2', '2', '2', '2 ', '2', \n",
    "    '3', '3 ', '3', '3 ', '3', '3', '3', '3', '3', '3', '3 ', '3', \n",
    "    '4', '4 ', '4', '4 ', '4', '4', '4 ', '4', '4', '4', '4 ', '4', \n",
    "    '5', '5 ', '5', '5 ', '5', '5', '5 ', '5', '5', '5', '5 ', '5'\n",
    "]"
   ]
  },
  {
   "cell_type": "code",
   "execution_count": null,
   "metadata": {},
   "outputs": [],
   "source": [
    "a = 440\n",
    "v_step = 1 / 12\n",
    "\n",
    "table = '''\n",
    "<div class=\"section\">\n",
    "<div class=\"container\">\n",
    "<div class=\"content\">\n",
    "<table class=\"table\">\n",
    "  <thead>\n",
    "    <tr>\n",
    "      <th>Midi Note</th>\n",
    "      <th>Octave></th>\n",
    "      <th>Note</th>\n",
    "      <th>Frequency</th>\n",
    "      <th>Voltage</th>\n",
    "    </tr>\n",
    "  </thead>\n",
    "  <tbody>\n",
    "'''\n",
    "\n",
    "for s in np.arange(0, 128) :\n",
    "    _freq = a * 2 ** ((s-69) / 12 )\n",
    "    table += '<tr><td>  %s  </td><td>  %s </td><td> %s </td><td> %.2f </td>' % (s, octaves[s], notes[s], _freq)\n",
    "    if s >= 69 :\n",
    "        table += '</td><td> %.4f </td></tr>' % ((s-69) * v_step)\n",
    "    else :\n",
    "        table += '</td><td></td></tr>'\n",
    "\n",
    "table += \"</tbody></table></div></div></div>\"\n",
    "\n",
    "from IPython.display import display, HTML\n",
    "display(HTML(table))"
   ]
  }
 ],
 "metadata": {
  "FrontMatter": {
   "categories": [
    "article"
   ],
   "date": "2021-06-10",
   "draft": true,
   "excerpt": "In this article, we look at how to build modules that can be mounted in a eurorack. The international standard 19&quot; rack system (DIN 41494 / IEC 297-3 / IEEE 1001.1) is the base for the dimension. These standards define all the parts needed to build a complete rack. here only the rails to mount the modules are used. The rails will be screwed to side panels made from wood.",
   "hero_image": "vermarkung-hero-landscape.jpg",
   "hero_mobile": "vermarkung-hero-portrait.jpg",
   "image": "midi_connector.jpg",
   "references": [
    {
     "description": "MIDI tuning standard",
     "title": "Wikipedia",
     "url": "https://en.wikipedia.org/wiki/MIDI_tuning_standard"
    }
   ],
   "subtitle": "play with the 4046 phase locked loop",
   "tags": [
    "theorie"
   ],
   "title": "midi",
   "version": "0"
  },
  "kernelspec": {
   "display_name": "Python 3 (ipykernel)",
   "language": "python",
   "name": "python3"
  },
  "language_info": {
   "codemirror_mode": {
    "name": "ipython",
    "version": 3
   },
   "file_extension": ".py",
   "mimetype": "text/x-python",
   "name": "python",
   "nbconvert_exporter": "python",
   "pygments_lexer": "ipython3",
   "version": "3.9.2"
  }
 },
 "nbformat": 4,
 "nbformat_minor": 4
}
