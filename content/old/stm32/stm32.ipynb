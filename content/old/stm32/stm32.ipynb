{
 "cells": [
  {
   "cell_type": "markdown",
   "metadata": {},
   "source": [
    "# essential software\n",
    "  \n",
    "The software used to create the notebooks, schematics and PCB's.  \n",
    "\n",
    "* [STM32CubeMX](https://www.st.com/en/development-tools/stm32cubemx.html) STM32Cube initialization code generator.\n",
    "* [OpenOCD](http://openocd.org/) Open On-Chip Debugger.\n",
    "* [ST-LINK](https://www.st.com/en/development-tools/st-link-v2.html) ST-LINK/V2 in-circuit debugger/programmer for STM8 and STM32."
   ]
  },
  {
   "cell_type": "code",
   "execution_count": null,
   "metadata": {},
   "outputs": [],
   "source": [
    "from IPython.display import display, HTML\n",
    "display(HTML('''\n",
    "<div class=\"section\">\n",
    "<div class=\"container\">\n",
    "<div class=\"content\">\n",
    "<div class=\"notification is-warning\">\n",
    "  <button class=\"delete\"></button>\n",
    "  In some linux distributions, for example arch, the default vs-code is the open source version. this version has a limited set of extensions. In arch\n",
    "  install the <pre>visual-studio-code-bin</pre> from the AUR.\n",
    "</div>\n",
    "</div>\n",
    "</div>\n",
    "</div>\n",
    "'''))"
   ]
  },
  {
   "cell_type": "markdown",
   "metadata": {},
   "source": [
    "# upload code\n",
    "\n",
    "```\n",
    "st-flash --reset write build/oszi.bin 0x08000000\n",
    "```"
   ]
  },
  {
   "cell_type": "markdown",
   "metadata": {},
   "source": [
    "# vs-code\n",
    "\n",
    "vs-code can be used as an IDE for stm32 development. for that some extensions are needed.\n",
    "\n",
    "* C/C++, ms-vscode.cpptools\n",
    "* Cortex-Debug, marus25.cortex-debug\n",
    "* ARM Assembly highlighting, dan-c-underwood.arm\n",
    "* Linker Script highlighting, zixuanwang.linkerscript\n",
    "\n",
    "For dbugging there is a definition file needed for the processor. This can be downloaded from ST:\n",
    "\n",
    "* [STM32 32-bit Arm Cortex MCUs](https://www.st.com/en/microcontrollers-microprocessors/stm32-32-bit-arm-cortex-mcus.html#cad-resources)"
   ]
  },
  {
   "cell_type": "markdown",
   "metadata": {},
   "source": []
  },
  {
   "cell_type": "markdown",
   "metadata": {},
   "source": [
    "# STM32 development\n",
    "\n",
    "STM32 firmare is developed in visual studio code. The following extensions needs to be installed.\n"
   ]
  },
  {
   "cell_type": "raw",
   "metadata": {},
   "source": [
    "{{< highlight shell-session \"linenos=table\" >}}\n",
    "code --install-extension ms-vscode.cpptools \n",
    "code --install-extension marus25.cortex-debug       \n",
    "code --install-extension dan-c-underwood.arm   \n",
    "code --install-extension zixuanwang.linkerscript   \n",
    "{{< / highlight >}}"
   ]
  },
  {
   "cell_type": "markdown",
   "metadata": {},
   "source": [
    "install the development tools in arch linux:\n",
    "\n",
    "```bash\n",
    "sudo pacman -Sy openocd stlink arm-none-eabi-gcc arm-none-eabi-gdb arm-none-eabi-newlib\n",
    "```\n",
    "\n",
    "## trouble shooting\n",
    "\n",
    "### wrong idcode\n",
    "\n",
    "for some cheap STM32 boards from china the wrong processor id is returned. These are most likely clones of the orginial chip.\n",
    "\n",
    "```\n",
    "Warn : UNEXPECTED idcode: 0x2ba01477\n",
    "Error: expected 1 of 1: 0x1ba01477\n",
    "```\n",
    "\n",
    "replace the chip id in the st-link description file.\n",
    "\n",
    "### locked chip\n",
    "\n",
    "When the firmware is installed without the SWD debug option, the chip is locked and no other firmware can be installed.\n",
    "\n",
    "check if the chip is locked:\n",
    "\n",
    "```\n",
    "st-info --probe\n",
    "\n",
    "Found 1 stlink programmers\n",
    " serial: 533f6b064975524918500267\n",
    "openocd: \"\\x53\\x3f\\x6b\\x06\\x49\\x75\\x52\\x49\\x18\\x50\\x02\\x67\"\n",
    "  flash: 65536 (pagesize: 1024)\n",
    "   sram: 20480\n",
    " chipid: 0x0410\n",
    "  descr: F1 Medium-density device\n",
    "```\n",
    "\n",
    "when chip is locked st-info --probe return flash: 0. \n",
    "\n",
    "unlock the chip using openocd:\n",
    "\n",
    "```\n",
    "openocd -f interface/stlink-v2.cfg \\\n",
    "   -f target/stm32f1x.cfg \\       \n",
    "   -c \"init; reset halt; stm32f1x unlock 0; reset halt; exit\"\n",
    "```\n"
   ]
  },
  {
   "cell_type": "markdown",
   "metadata": {},
   "source": [
    "# other software\n",
    "\n",
    "* [audacity](https://www.audacityteam.org/) Free, open source, cross-platform audio software"
   ]
  }
 ],
 "metadata": {
  "FrontMatter": {
   "author": "spielhuus",
   "category": "article",
   "date": "2020-12-01",
   "excerpt": "The elektrophon is developed with a continuous development lifecycle. The circuits for the modules and articles are first simulated with spice. Jupyter notebooks are used to edit and run the simulations. In these notebooks also the images and other content is created. To run the notebooks you need to install the required software. Here is a list of all the needed software and tools.",
   "hero_darken": "true",
   "hero_height": "is-fullheight",
   "hero_image": "/assets/stm32-hero_landscape.jpg",
   "hero_mobile": "/assets/stm32-hero_portrait.jpg",
   "hero_subtitle": "true",
   "hero_title": "true",
   "image": "/assets/stm32-card.jpg",
   "layout": "article",
   "subtitle": "All the necessary applications for developing the elektrophon.",
   "tag": "grundlage",
   "title": "stm32",
   "version": "0"
  },
  "kernelspec": {
   "display_name": "Python 3 (ipykernel)",
   "language": "python",
   "name": "python3"
  },
  "language_info": {
   "codemirror_mode": {
    "name": "ipython",
    "version": 3
   },
   "file_extension": ".py",
   "mimetype": "text/x-python",
   "name": "python",
   "nbconvert_exporter": "python",
   "pygments_lexer": "ipython3",
   "version": "3.9.2"
  }
 },
 "nbformat": 4,
 "nbformat_minor": 4
}
