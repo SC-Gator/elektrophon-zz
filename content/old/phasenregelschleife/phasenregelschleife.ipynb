{
 "cells": [
  {
   "cell_type": "code",
   "execution_count": null,
   "metadata": {},
   "outputs": [],
   "source": [
    "import logging\n",
    "logging.Logger.disabled=True\n",
    "import schemdraw\n",
    "import schemdraw.elements as elm\n",
    "from schemdraw import dsp\n"
   ]
  },
  {
   "cell_type": "markdown",
   "metadata": {},
   "source": [
    "People seem to love the Russian Polivoks synthesizer]. The most interesting part is maybe the filter section. It is built without any capacitors. Instead, it uses some weird Russian opamps (KR140UD12). These are programmable opamps. With a control voltage, the gain can be changed. This filter wants to scream and can give percussive feedback responses, but can be well controlled. This filter is invented by [Vladimir Kuzmin](http://www.muztech.com/company.php). It has a lowpass and bandpass section. Instead of the original Russian opamp also the western counterparts can be used (uA776, MC1776, LM4250, NTE888). Of course, none of these parts is available anymore. I got some LM4250 from China. Besides the programmable opamp, this filter is a very simple build. No calibration trimmers or accurate tempco stages are required.\n",
    "{: class=\"mt-6\"} \n",
    "\n",
    "# construction\n",
    "\n",
    "The gerber files are part of the release. It should be possible to directly order them from your manufacturer. But check the result on the preview when you order them. All of the parts are active and available, but the LM4250 is not and an alternative source has to be find.\n",
    "\n",
    "bom: main circuit\n",
    "\n",
    "{% include bom.html %}\n",
    "\n",
    "{% include callouts.html %}\n",
    "\n",
    "{% include reports.html %}"
   ]
  },
  {
   "cell_type": "markdown",
   "metadata": {},
   "source": [
    "# calibration\n",
    "\n",
    "no calibration needed.\n"
   ]
  },
  {
   "cell_type": "markdown",
   "metadata": {},
   "source": [
    "# use\n",
    "{: class=\"subtitle is-lowercase\"}"
   ]
  },
  {
   "cell_type": "markdown",
   "metadata": {},
   "source": [
    "# references\n",
    "{: class=\"subtitle is-lowercase\"}\n",
    "\n",
    "* [papareil synth labs](http://m.bareille.free.fr/modular1/vcf_polivoks/vcf_polivoks.htm) polivoks clone\n",
    "* [polivoks clone](https://modularsynthesis.com/kuzmin/polivoks/djb-polivoks_schematic.jpg) using the NTE888.\n",
    "* [electro-music](http://electro-music.com/forum/topic-65609.html) thread with a [polivoks clone](http://electro-music.com/forum/phpbb-files/polivoks_vcf_soft_917.png) using the LM4250. \n",
    "* website from [vladimir kuzmin](http://www.muztech.com/company.php)"
   ]
  }
 ],
 "metadata": {
  "FrontMatter": {
   "category": "article",
   "date": "2020-12-10",
   "excerpt": "In this article, we look at how to build modules that can be mounted in a eurorack. The international standard 19&quot; rack system (DIN 41494 / IEC 297-3 / IEEE 1001.1) is the base for the dimension. These standards define all the parts needed to build a complete rack. here only the rails to mount the modules are used. The rails will be screwed to side panels made from wood.",
   "hero_darken": true,
   "hero_height": "is-fullheight",
   "hero_image": "/assets/vermarkung-hero-landscape.jpg",
   "hero_mobile": "/assets/vermarkung-hero-portrait.jpg",
   "hero_subtitle": true,
   "hero_title": true,
   "image": "/assets/rails.jpg",
   "layout": "article",
   "subtitle": "play with the 4046 phase locked loop",
   "tag": "grundlage",
   "title": "phasenregelschleife",
   "version": "0"
  },
  "kernelspec": {
   "display_name": "Python 3 (ipykernel)",
   "language": "python",
   "name": "python3"
  },
  "language_info": {
   "codemirror_mode": {
    "name": "ipython",
    "version": 3
   },
   "file_extension": ".py",
   "mimetype": "text/x-python",
   "name": "python",
   "nbconvert_exporter": "python",
   "pygments_lexer": "ipython3",
   "version": "3.9.6"
  }
 },
 "nbformat": 4,
 "nbformat_minor": 4
}
