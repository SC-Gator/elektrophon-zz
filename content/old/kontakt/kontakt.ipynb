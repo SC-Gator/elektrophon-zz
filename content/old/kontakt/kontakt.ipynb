{
 "cells": [
  {
   "cell_type": "code",
   "execution_count": null,
   "metadata": {
    "tags": [
     "outputPrepend"
    ]
   },
   "outputs": [],
   "source": [
    "#general definitions and imports\n",
    "%matplotlib inline\n",
    "%config InlineBackend.figure_format = 'svg'\n",
    "\n",
    "import logging\n",
    "logging.Logger.disabled=True\n",
    "\n",
    "import os\n",
    "import PySpice.Logging.Logging as Logging\n",
    "logger = Logging.setup_logging( logging_level='CRITICAL')\n",
    "\n",
    "import numpy as np\n",
    "import matplotlib.pyplot as plt\n",
    "\n",
    "import ipytest\n",
    "ipytest.autoconfig()\n",
    "from pytest import approx\n",
    "\n",
    "from pathlib import Path\n",
    "\n",
    "from PySpice.Unit import *\n",
    "from PySpice.Spice.Parser import SpiceParser\n",
    "from PySpice.Spice.Netlist import SubCircuitFactory\n",
    "from PySpice.Spice.Library import SpiceLibrary\n",
    "from PySpice.Spice.Netlist import Circuit\n",
    "from PySpice.Probe.Plot import plot\n",
    "from PySpice.Math import *\n",
    "\n",
    "import schemdraw\n",
    "import schemdraw.elements as elm\n",
    "from schemdraw import dsp\n",
    "from schemdraw import logic\n",
    "\n",
    "## setup spice library path\n",
    "directory_path = Path(os.path.abspath('')).resolve().parent.parent\n",
    "spice_libraries_path = directory_path.joinpath(\"lib\", \"spice\")\n",
    "spice_library = SpiceLibrary(spice_libraries_path)\n",
    "## set the project directory as directory_path\n",
    "directory_path = Path(os.path.abspath('')).resolve()"
   ]
  },
  {
   "cell_type": "markdown",
   "metadata": {},
   "source": [
    "# construction\n",
    "\n",
    "the function depends on the patching and settings of the potentiometers. an attenuverter is used in different modules like the  Serge VCS, Maths and also in the polivoks filter. while this module can be used as a simple mixer you can also adjust cv signals. such a signal can be simply attenuated or inverted. when feeding in a positive singal slope (for example from an adsr). the signal will be turned to a neagative dc singal. if the inpout signal is ac coupled the signal will be inverted. the function is the setting on the potentiometer of the channel. when the potentiometer is at center position. the output signal is attenuated to zero. no output singal is present. when turning to the right. the signal will be stronger until the output signal is equal to the input signal. when turning the potentiomenter to the left, the output signal will be phase shifted by 180°. when you turn the potentiometer to full left the output signal will be the inverted input signal. all the inputs are mixed to the output signal; unless you connect the output of a channel. then this output does not accure on the mixed signal.\n",
    "the attenuverter is build around a differential amplifier with an opamp. "
   ]
  },
  {
   "cell_type": "code",
   "execution_count": null,
   "metadata": {
    "caption": "Figure 1: Block Diagram",
    "tags": []
   },
   "outputs": [],
   "source": [
    "d = schemdraw.Drawing(unit=2.5, inches_per_unit=0.5, lw=1.1)\n",
    "\n",
    "JI4 = d.add(elm.AudioJack(xy=[0, d.unit], lftlabel='$IN_4$'))\n",
    "d.add(elm.Ground(\"right\", xy=JI4.sleeve))\n",
    "d.add(elm.Line( \"right\", l=d.unit, at=JI4.tip))\n",
    "D4 = d.add(dsp.Amp())\n",
    "d.add(elm.Line( \"right\", l=d.unit))\n",
    "JO4 = d.add(elm.AudioJack(\"left\", switch=True, flip=True, anchor='tip', rgtlabel='$OUT_4$'))\n",
    "d.add(elm.Ground(\"right\", xy=JO4.sleeve))\n",
    "\n",
    "JI3 = d.add(elm.AudioJack(xy=[0, 2*d.unit], lftlabel='$IN_3$'))\n",
    "d.add(elm.Ground(\"right\", xy=JI3.sleeve))\n",
    "d.add(elm.Line( \"right\", l=d.unit, at=JI3.tip))\n",
    "D3 = d.add(dsp.Amp())\n",
    "d.add(elm.Line( \"right\", l=d.unit))\n",
    "JO3 = d.add(elm.AudioJack(\"left\", switch=True, flip=True, anchor='tip', rgtlabel='$OUT_3$'))\n",
    "d.add(elm.Ground(\"right\", xy=JO3.sleeve))\n",
    "\n",
    "JI2 = d.add(elm.AudioJack(xy=[0, 3*d.unit], lftlabel='$IN_2$'))\n",
    "d.add(elm.Ground(\"right\", xy=JI2.sleeve))\n",
    "d.add(elm.Line( \"right\", l=d.unit, at=JI2.tip))\n",
    "D2 = d.add(dsp.Amp())\n",
    "d.add(elm.Line( \"right\", l=d.unit))\n",
    "JO2 = d.add(elm.AudioJack(\"left\", switch=True, flip=True, anchor='tip', rgtlabel='$OUT_2$'))\n",
    "d.add(elm.Ground(\"right\", xy=JO2.sleeve))\n",
    "\n",
    "JI1 = d.add(elm.AudioJack(xy=[0, 4*d.unit], lftlabel='$IN_1$'))\n",
    "d.add(elm.Ground(\"right\", xy=JI1.sleeve))\n",
    "d.add(elm.Line( \"right\", l=d.unit, at=JI1.tip))\n",
    "D1 = d.add(dsp.Amp())\n",
    "d.add(elm.Line( \"right\", l=d.unit))\n",
    "JO1 = d.add(elm.AudioJack(\"left\", switch=True, flip=True, anchor='tip', rgtlabel='$OUT_1$'))\n",
    "d.add(elm.Ground(\"right\", xy=JO1.sleeve))\n",
    "\n",
    "d.add(elm.Line(\"left\", l=d.unit/2, xy=JO1.tipswitch))\n",
    "d.add(elm.Line(\"down\"))\n",
    "\n",
    "d.add(elm.Line(\"left\", l=d.unit/2, xy=JO2.tipswitch))\n",
    "d.add(elm.Dot())\n",
    "d.add(elm.Line(\"down\"))\n",
    "\n",
    "d.add(elm.Line(\"left\", l=d.unit/2, xy=JO3.tipswitch))\n",
    "d.add(elm.Dot())\n",
    "d.add(elm.Line(\"down\"))\n",
    "\n",
    "d.add(elm.Line(\"left\", l=d.unit/2, xy=JO4.tipswitch))\n",
    "d.add(elm.Dot())\n",
    "d.add(elm.Line(\"down\", l=d.unit/2))\n",
    "S = d.add(dsp.Sum())  \n",
    "\n",
    "d.add(elm.Line( \"down\", xy=S.E, l=d.unit/2))\n",
    "d.add(elm.Line( \"right\", l=d.unit/2))\n",
    "JO = d.add(elm.AudioJack(\"left\", anchor=\"tip\", flip=True, rgtlabel='$OUT$'))\n",
    "d.add(elm.Ground(\"right\", xy=JO.sleeve))\n",
    "\n",
    "d.draw()\n"
   ]
  },
  {
   "cell_type": "code",
   "execution_count": null,
   "metadata": {
    "caption": "Figure 2: Attenuverter Schematic",
    "tags": []
   },
   "outputs": [],
   "source": [
    "d = schemdraw.Drawing(unit=2.5, inches_per_unit=0.5, lw=0.9)\n",
    "\n",
    "O = d.add(elm.Opamp( label='$U_1$'))\n",
    "\n",
    "d.add(elm.Line( \"left\", xy=O.in1, l=d.unit/8))\n",
    "R1 = d.add(elm.Resistor( \"left\", label='$R_1$'))\n",
    "d.add(logic.Dot())    \n",
    "R2 = d.add(elm.Resistor( \"down\", label='$R_3$'))\n",
    "d.add(elm.Resistor( \"down\", label='$R_4$'))\n",
    "d.add(elm.Ground)\n",
    "\n",
    "L1 = d.add(elm.Line('left', l=d.unit/2, xy=R1.end))\n",
    "d.add(elm.Line('down', l=d.unit/2))\n",
    "RV = d.add(elm.Potentiometer('down', toplabel='$UV_1$'))\n",
    "d.add(elm.Line('down', l=d.unit/2))\n",
    "d.add(elm.Ground)\n",
    "\n",
    "d.add(elm.Line('left', l=d.unit/4, xy=L1.end, lftlabel='$IN$'))\n",
    "\n",
    "d.add(elm.Line('right', tox=R2.end, xy=RV.tap))\n",
    "d.add(logic.Dot())\n",
    "\n",
    "d.add(elm.Line('right', l=d.unit/2, xy=R2.end))\n",
    "d.add(elm.Line('up', l=d.unit*0.58))\n",
    "d.add(elm.Line('right', l=d.unit*0.63))\n",
    "\n",
    "d.add(logic.Dot(xy=R1.start))\n",
    "d.add(elm.Line('up', l=d.unit))\n",
    "d.add(elm.Resistor('right', label='$R_2$', tox=O.out+d.unit/8))\n",
    "d.add(elm.Line('down', toy=O.out))\n",
    "d.add(logic.Dot())\n",
    "\n",
    "d.add(elm.Line('right', l=d.unit/4, xy=O.out, rgtlabel='$OUT$'))\n",
    "\n",
    "d.draw()"
   ]
  },
  {
   "cell_type": "markdown",
   "metadata": {},
   "source": [
    "\n",
    "\n",
    "$$\n",
    "\\begin{array}{c}\n",
    "Vout = \\Bigl(1 + \\frac{R2}{R1}\\Bigr) \\Bigl(\\frac{R4}{R3+R4}\\Bigr) * V2 - \\Bigl(\\frac{R2}{R1}\\Bigr) * V1\n",
    "\\end{array}\n",
    "$$\n",
    "\n"
   ]
  },
  {
   "cell_type": "code",
   "execution_count": null,
   "metadata": {
    "caption": "Figure 3: Attenuverter Potentiometer Sweep",
    "tags": [
     "outputPrepend"
    ]
   },
   "outputs": [],
   "source": [
    "# calcultate the pot sweep\n",
    "circuit = Circuit('attenuverter')\n",
    "circuit.include(spice_library['OPA2134'])\n",
    "\n",
    "circuit.V('1', '+15V', circuit.gnd, 'DC 15')\n",
    "circuit.V('2', '-15V', circuit.gnd, 'DC -15')\n",
    "circuit.V('3', 'INPUT', circuit.gnd, 'DC 5 AC 5 SIN(0 5V 1k)')\n",
    "\n",
    "rv1 = circuit.R('RV1', 'INPUT', 'RV1out', 100@u_kΩ)\n",
    "rv2 = circuit.R('RV2', 'RV1out', circuit.gnd, 100@u_kΩ)\n",
    "circuit.R(3, 'INPUT', 'RV1out', 47@u_kΩ)\n",
    "circuit.R(4, 'RV1out', circuit.gnd, 47@u_kΩ)\n",
    "\n",
    "circuit.R(1, 'INPUT', 'op_neg', 100@u_kΩ)\n",
    "circuit.R(2, 'op_neg', 'OUT', 100@u_kΩ)\n",
    "\n",
    "circuit.X('op', 'OPA2134', 'RV1out', 'op_neg', '+15V', '-15V', 'OUT')\n",
    "\n",
    "attenuverter_results = []\n",
    "for s in np.arange( 1, 0, -0.01 ):\n",
    "    rv1.resistance = s * 100@u_kOhm\n",
    "    rv2.resistance = 100@u_kOhm - (s * 100@u_kOhm)\n",
    "    simulator = circuit.simulator(temperature=25, nominal_temperature=25)\n",
    "    analysis = simulator.operating_point()\n",
    "    attenuverter_results.append(float(analysis['OUT']))\n",
    "\n",
    "figure, ax = plt.subplots()\n",
    "ax.plot(attenuverter_results)  # input\n",
    "ax.legend(('Vout [V]'), loc=(.1, .8))\n",
    "ax.grid()\n",
    "ax.set_xlabel('wiper [%]')\n",
    "ax.set_ylabel('[V]')\n",
    "\n",
    "plt.tight_layout()\n",
    "plt.show()"
   ]
  },
  {
   "cell_type": "markdown",
   "metadata": {},
   "source": [
    "the circuit of the attenuverter is based on the opamp dfferential amplifer. the two resistors at the non-inverting inputs are replaced with a potentiometer. the potentiometer is configured as a voltage divider and replace R3 and R4 from the differential amplifier. when the position of the potentiometer is adjusted, the output voltage will change or invert. at the center position  the output is zero volrs. the response to the potentiometer is linear. we can make it an centered s-curve by adding two parallel resistors (R5,R6) to the potentiometer [[2]](https://sound-au.com/pots.htm)."
   ]
  },
  {
   "cell_type": "markdown",
   "metadata": {},
   "source": [
    "a simulation with the resistance at RV 1 changed from 0-100%. first run is the linear result. the second run is done with the resistors R5 and R6 added. This results in a s curve. the shape of the curve can be changed with the values of the resistors."
   ]
  },
  {
   "cell_type": "markdown",
   "metadata": {},
   "source": [
    "{% include bom.html content=\"summe-main-bom\" %}\n",
    "{% include callouts.html %}\n",
    "{% include reports.html%}"
   ]
  },
  {
   "cell_type": "markdown",
   "metadata": {},
   "source": [
    "# calibration\n",
    "\n",
    "there is no calibration needed. but the potentiomenter knobs have to be aliged to center position.\n"
   ]
  },
  {
   "cell_type": "markdown",
   "metadata": {},
   "source": [
    "# usage\n",
    "\n",
    "the input jacks are wired to 5 volts when nothing is connected.\n",
    "\n",
    "all channels are mixed to the out jack. when something is connected to the channel out, this channel is removed from the overall mix.\n",
    "\n",
    "_mixer_\n",
    "* connect the different channels from audio or cv sources to the in jacks.\n",
    "* connect the out jack to something\n",
    "* turn the pots clockwise to adjust the volume.\n",
    "\n",
    "_attenuverter_\n",
    "* connect all or a single channel. \n",
    "* when you turn the pot knob counter clockwise the signal is inverted.\n",
    "\n",
    "\n"
   ]
  },
  {
   "cell_type": "markdown",
   "metadata": {},
   "source": [
    "# references\n",
    "\n",
    "- [Op Amp Differential Amplifier](http://www.ecircuitcenter.com/Circuits/opdif/opdif.htm) eCircuit  Center\n",
    "- [Beginners' Guide to Potentiometers](https://sound-au.com/pots.htm)  Rod Elliott (ESP)\n"
   ]
  }
 ],
 "metadata": {
  "FrontMatter": {
   "author": "spielhuus",
   "categories": [
    "module"
   ],
   "date": "2021-07-21",
   "excerpt": "Kontakt is a MIDI to CV module. There are thre channels with pitch, gate, pulse and pitch bend",
   "hero_darken": "true",
   "hero_height": "is-fullheight",
   "hero_image": "/assets/equalizer-landscape.jpg",
   "hero_mobile": "/assets/equalizer-portrait.jpg",
   "hero_subtitle": "false",
   "hero_tags": "true",
   "hero_title": "true",
   "image": "/assets/kontakt-card.jpg",
   "layout": "module",
   "subtitle": "MIDI to CV module.",
   "tags": [
    "misc"
   ],
   "test": "False",
   "title": "kontakt",
   "toc": "true",
   "version": "0"
  },
  "kernelspec": {
   "display_name": "Python 3 (ipykernel)",
   "language": "python",
   "name": "python3"
  },
  "language_info": {
   "codemirror_mode": {
    "name": "ipython",
    "version": 3
   },
   "file_extension": ".py",
   "mimetype": "text/x-python",
   "name": "python",
   "nbconvert_exporter": "python",
   "pygments_lexer": "ipython3",
   "version": "3.9.2"
  },
  "toc-showcode": false,
  "toc-showmarkdowntxt": false,
  "toc-showtags": true
 },
 "nbformat": 4,
 "nbformat_minor": 4
}
