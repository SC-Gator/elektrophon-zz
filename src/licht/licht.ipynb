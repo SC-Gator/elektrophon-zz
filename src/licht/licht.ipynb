{
 "cells": [
  {
   "cell_type": "code",
   "execution_count": null,
   "metadata": {},
   "outputs": [],
   "source": [
    "%matplotlib inline\n",
    "%config InlineBackend.figure_format = 'svg'\n",
    "\n",
    "import matplotlib.pyplot as plt\n",
    "import numpy as np\n",
    "\n",
    "import PySpice.Logging.Logging as Logging\n",
    "logger = Logging.setup_logging( logging_level='CRITICAL')\n",
    "\n",
    "import os\n",
    "import sys\n",
    "from pathlib import Path\n",
    "import IPython.display as ipd\n",
    "from PySpice.Unit import *\n",
    "from PySpice.Spice.Parser import SpiceParser\n",
    "from PySpice.Spice.Netlist import Circuit, SubCircuit, SubCircuitFactory\n",
    "from PySpice.Spice.Library import SpiceLibrary\n",
    "from PySpice.Probe.Plot import plot\n",
    "from PySpice.Doc.ExampleTools import find_libraries\n",
    "from PySpice.Math import *\n",
    "from PySpice.Plot.BodeDiagram import bode_diagram\n",
    "from PySpice.Plot.BodeDiagram import bode_diagram_gain\n",
    "\n",
    "import schemdraw\n",
    "import schemdraw.elements as elm\n",
    "from schemdraw import logic\n",
    "\n",
    "directory_path = Path(os.path.abspath('')).resolve().parent.parent\n",
    "spice_libraries_path = directory_path.joinpath(\"lib\", \"spice\")\n",
    "spice_library = SpiceLibrary(spice_libraries_path)"
   ]
  },
  {
   "cell_type": "markdown",
   "metadata": {},
   "source": [
    "enlighten the front panels uses a lot of energy and cause glitches on the power rail. never the less an eluminated panel looks much better and the different types of connectors can be marked with different colors.\n",
    "\n",
    "\n",
    "|color|type|[V]|\n",
    "|---  |--- |---|\n",
    "|<button class=\"button is-danger\">red</button>| | audio signal | +-5 |\n",
    "|<button class=\"button is-success\">green</button>| | cv signal | +-5 |\n",
    "|<button class=\"button is-warning\">yellow</button>| | cv pulse or gate | +10 |\n",
    "|<button class=\"button is-text\">white</button>| | cv pulse or gate | +10 |\n"
   ]
  },
  {
   "cell_type": "markdown",
   "metadata": {},
   "source": [
    "**the chip should be powered by +5V/GND. With higher voltage the heat dissipation will be to big and the chip will be damaged.**"
   ]
  },
  {
   "cell_type": "markdown",
   "metadata": {},
   "source": [
    "# dc led driver\n",
    "\n",
    "when there is a DC signal which is positive only and the signal has to be buffered the simgle transistor driver comes in handy. It is built around the common base transistor amplifier. The Led can be connected to the collector of the transisitor. The current for the LED can be set with Rx and calculated using simple ohms law."
   ]
  },
  {
   "cell_type": "code",
   "execution_count": null,
   "metadata": {},
   "outputs": [],
   "source": [
    "d = schemdraw.Drawing(unit=2.5, inches_per_unit=0.5, lw=0.9)\n",
    "\n",
    "d.add(elm.Dot('left', lftlabel='IN', open=True))\n",
    "d.add(elm.Resistor(label='$R_1$\\n100k'))\n",
    "Q = d.add(elm.BjtNpn(circle='True', label='$Q_1$', to='base'))\n",
    "\n",
    "d.add(elm.LED(\"down\", label='$D_1$', at=Q.emitter))\n",
    "d.add(elm.Ground)\n",
    "\n",
    "d.add(elm.Resistor(\"up\", label=\"R$_2$\", at=Q.collector))\n",
    "d.add(elm.Vdd(label=\"+15V\"))\n",
    "\n",
    "d.draw()"
   ]
  },
  {
   "cell_type": "markdown",
   "metadata": {},
   "source": [
    "This is the first setup with the 4069 as voltage follower. C1 and C3 are the dc blocking capacitors. When we choose R1 and R2 as 100kOhm we would excpect a gain of one. "
   ]
  },
  {
   "cell_type": "code",
   "execution_count": null,
   "metadata": {},
   "outputs": [],
   "source": [
    "V = 5 - 0.2 - 1.7\n",
    "Ie = V / 5100 # U=R*I -> I=U/R\n",
    "print(\"Calculated Emitter current: %f A\" % Ie)\n",
    "\n",
    "Ib = (10 - 0.6) / 100000\n",
    "print(\"Calculated Base current: %f A\" % Ib)\n",
    "print(\"Calculated current: %f A\" % (Ib+Ie))\n",
    "\n"
   ]
  },
  {
   "cell_type": "code",
   "execution_count": null,
   "metadata": {},
   "outputs": [],
   "source": [
    "circuit = Circuit('DC led driver')\n",
    "circuit.include(spice_library['BC547B'])\n",
    "circuit.include(spice_library['LED2'])\n",
    "\n",
    "circuit.V('1', '+5V', circuit.gnd, 'DC 5')\n",
    "circuit.V('2', 'IN', circuit.gnd, 'DC 10 AC 5V SIN(0 5V 1k)')\n",
    "\n",
    "circuit.BJT('1', 'col', 'base', 'em', model=\"BC547B\")\n",
    "\n",
    "circuit.R(1, 'IN', 'base', 100@u_kΩ)\n",
    "R = circuit.R(2, '+5V', 'col', 5.1@u_kΩ)\n",
    "\n",
    "circuit.D(1, 'em', circuit.gnd, model=\"LED2\")\n",
    "\n",
    "simulator = circuit.simulator(temperature=25, nominal_temperature=25)\n",
    "simulator.options('savecurrents')\n",
    "\n",
    "op = simulator.operating_point()\n",
    "print(\"Emitter Current: %f\" % op['@Q1[ie]'])\n",
    "\n",
    "analysis  = simulator.transient(step_time=1@u_us, start_time=100@u_ms, end_time=110@u_ms)\n",
    "\n",
    "#plot the figure\n",
    "fig_buffer, ax1_buffer = plt.subplots()\n",
    "\n",
    "ax1_buffer.set_xlabel('time (ms)')\n",
    "ax1_buffer.set_ylabel('IN [V]')\n",
    "#ax1_buffer.plot(u_ms(analysis['IN'].abscissa), analysis['IN'], color='Blue')\n",
    "#ax1_buffer.plot(u_ms(analysis['em'].abscissa), analysis['em'], color='Red')\n",
    "ax1_buffer.plot(u_ms(analysis['@Q1[ie]'].abscissa), analysis['@Q1[ie]'], color='Green')\n",
    "ax1_buffer.legend(('Vin [V]', 'Vout (R2=100 kΩ)', 'Vout (R2=125 kΩ)'), loc=(0.01,0.65))\n",
    "\n",
    "plt.tight_layout()\n",
    "plt.show()"
   ]
  },
  {
   "cell_type": "markdown",
   "metadata": {},
   "source": [
    "# ac led driver\n"
   ]
  },
  {
   "cell_type": "code",
   "execution_count": null,
   "metadata": {},
   "outputs": [],
   "source": [
    "d = schemdraw.Drawing(unit=2.5, inches_per_unit=0.5, lw=0.9)\n",
    "\n",
    "d.add(elm.Dot('left', lftlabel='IN', open=True))\n",
    "d.add(elm.Resistor(label='$R_1$\\n12k'))\n",
    "D = d.add(elm.Diode(label='$D_1$'))\n",
    "d.add(elm.Dot())\n",
    "d.add(elm.Line(l=d.unit/4))\n",
    "Q = d.add(elm.BjtNpn(circle='True', label='$Q_1$', to='base'))\n",
    "\n",
    "d.add(elm.Capacitor(\"down\", label=\"$C_1$\\n100n\", at=D.end))\n",
    "d.add(elm.Ground())\n",
    "\n",
    "d.add(elm.LED(\"down\", label='$D_1$', at=Q.emitter))\n",
    "d.add(elm.Resistor(label='$R_2$\\n470'))\n",
    "d.add(elm.Ground)\n",
    "\n",
    "L = d.add(elm.Line(\"up\", l=d.unit/4, at=Q.collector))\n",
    "d.add(elm.Dot())\n",
    "d.add(elm.Line(\"up\", l=d.unit/4))\n",
    "d.add(elm.Vdd(label=\"+15V\"))\n",
    "d.add(elm.Capacitor(\"right\", at=L.end, label=\"$C_2$\\n100n\"))\n",
    "d.add(elm.Ground())\n",
    "\n",
    "d.draw()"
   ]
  },
  {
   "cell_type": "code",
   "execution_count": null,
   "metadata": {},
   "outputs": [],
   "source": [
    "circuit = Circuit('ac led driver')\n",
    "circuit.include(spice_library['BC547B'])\n",
    "circuit.include(spice_library['D1N4148'])\n",
    "circuit.include(spice_library['LED1'])\n",
    "\n",
    "circuit.V('1', '+5V', circuit.gnd, 'DC 5')\n",
    "circuit.V('2', 'IN', circuit.gnd, 'DC 5 AC 5V SIN(0 5V 1k)')\n",
    "\n",
    "circuit.BJT('1', '+5V', 'base', 'em', model=\"BC547B\")\n",
    "\n",
    "circuit.R(1, 'IN', 'R1', 100@u_kΩ)\n",
    "circuit.D(1, 'R1', 'base', model=\"D1N4148\")\n",
    "circuit.C(1, 'base', circuit.gnd, 100@u_nF)\n",
    "\n",
    "circuit.D(2, 'em', 'D2', model=\"LED1\")\n",
    "R = circuit.R(2, 'D2', circuit.gnd, 470@u_Ω)\n",
    "\n",
    "simulator = circuit.simulator(temperature=25, nominal_temperature=25)\n",
    "analysis  = simulator.transient(step_time=1@u_us, start_time=100@u_ms, end_time=110@u_ms)"
   ]
  },
  {
   "cell_type": "code",
   "execution_count": null,
   "metadata": {},
   "outputs": [],
   "source": [
    "fig_buffer, ax1_buffer = plt.subplots()\n",
    "\n",
    "ax1_buffer.set_xlabel('time (ms)')\n",
    "ax1_buffer.set_ylabel('IN [V]')\n",
    "ax1_buffer.plot(u_ms(analysis['IN'].abscissa), analysis['IN'], color='Blue')\n",
    "ax1_buffer.plot(u_ms(analysis['em'].abscissa), analysis['em'])\n",
    "ax1_buffer.legend(('Vin [V]', 'Vout (R2=100 kΩ)', 'Vout (R2=125 kΩ)'), loc=(0.01,0.65))\n",
    "\n",
    "plt.tight_layout()\n",
    "plt.show()"
   ]
  },
  {
   "cell_type": "markdown",
   "metadata": {},
   "source": [
    "# bipolar led driver\n",
    "\n",
    "Sometimes we do not just want a light indicator for positive signals. For AC signals a bopolar LED could be used. The LED dirver has to produce positive and negative voltages.\n"
   ]
  },
  {
   "cell_type": "code",
   "execution_count": null,
   "metadata": {},
   "outputs": [],
   "source": [
    "d = schemdraw.Drawing(unit=2.5, inches_per_unit=0.5, lw=0.9)\n",
    "\n",
    "O = d.add(elm.Opamp())\n",
    "d.add(elm.Line('left', l=d.unit, xy=O.in2))\n",
    "d.add(elm.Dot(lftlabel='IN', open=True))\n",
    "\n",
    "d.add(elm.Line('left', l=d.unit/4, xy=O.in1))\n",
    "d.add(elm.Line('up', l=d.unit/2))\n",
    "d.add(elm.Line('right', tox=O.out+d.unit/4))\n",
    "d.add(elm.Line('down', toy=O.out))\n",
    "D = d.add(elm.Dot())\n",
    "d.add(elm.Line('left', tox=O.out))\n",
    "\n",
    "d.add(elm.Line('right', l=d.unit/4, xy=D.end))\n",
    "d.add(elm.Resistor(label='$R_1$\\n12k'))\n",
    "d.add(elm.LED(label='$D_1$'))\n",
    "d.add(elm.Line(l=d.unit/4))\n",
    "d.add(elm.Ground())\n",
    "\n",
    "d.draw()"
   ]
  },
  {
   "cell_type": "code",
   "execution_count": null,
   "metadata": {},
   "outputs": [],
   "source": [
    "circuit = Circuit('bipolar led driver')\n",
    "circuit.include(spice_library['TL072'])\n",
    "circuit.include(spice_library['LED1'])\n",
    "\n",
    "circuit.V('1', '+15V', circuit.gnd, 'DC 15')\n",
    "circuit.V('2', '-15V', circuit.gnd, 'DC -15')\n",
    "circuit.V('3', 'IN', circuit.gnd, 'DC 5 AC 5V SIN(0 5V 1k)')\n",
    "\n",
    "circuit.X('1', 'TL072', 'IN', 'Xo', '+15V', '-15V', 'Xo')\n",
    "circuit.R(1, 'Xo', 'R1', 500@u_Ω)\n",
    "circuit.D(1, 'R1', circuit.gnd, model=\"LED2\")\n",
    "circuit.D(2, circuit.gnd, 'R1', model=\"LED2\")\n",
    "\n",
    "simulator = circuit.simulator(temperature=25, nominal_temperature=25)\n",
    "simulator.options('savecurrents')\n",
    "\n",
    "analysis  = simulator.transient(step_time=1@u_us, start_time=0@u_ms, end_time=2@u_ms)\n",
    "analysis_dc  = simulator.operating_point()\n",
    "\n",
    "print(f'opamp voltage: {float(analysis_dc.Xo)}, LED: current: {float(analysis_dc[\"@D1[id]\"]*1000)}mA')\n"
   ]
  },
  {
   "cell_type": "code",
   "execution_count": null,
   "metadata": {
    "tags": []
   },
   "outputs": [],
   "source": [
    "fig_buffer, ax1_buffer = plt.subplots()\n",
    "\n",
    "ax1_buffer.set_xlabel('time (ms)')\n",
    "ax1_buffer.set_ylabel('IN [V]')\n",
    "#ax1_buffer.plot(u_ms(analysis['IN'].abscissa), analysis['IN'], color='Blue')\n",
    "#ax1_buffer.plot(u_ms(analysis['R1'].abscissa), analysis['R1'], color='Red')\n",
    "ax1_buffer.legend(('Vin [V]', 'Vout (R2=100 kΩ)', 'Vout (R2=125 kΩ)'), loc=(0.01,0.65))\n",
    "\n",
    "ax2 = ax1_buffer.twinx()  # instantiate a second axes that shares the same x-axis\n",
    "ax2.plot(u_ms(analysis['@D1[id]'].abscissa), analysis['@D1[id]'], color='Green')\n",
    "ax2.plot(u_ms(analysis['@D2[id]'].abscissa), analysis['@D2[id]'], color='LightGreen')\n",
    "\n",
    "plt.tight_layout()\n",
    "plt.show()"
   ]
  },
  {
   "cell_type": "markdown",
   "metadata": {},
   "source": [
    "$$\n",
    "\\begin{array}{c}\n",
    "(5V÷ 10) = RFB × 20 mA = RFB = \\frac{5V)(10 mA)) = R Ω\n",
    "\\end{array}\n",
    "$$"
   ]
  },
  {
   "cell_type": "code",
   "execution_count": null,
   "metadata": {},
   "outputs": [],
   "source": [
    "R = (5-2.5) / 0.005\n",
    "print(R)\n",
    "\n",
    "I = (5-0.7) / 10000\n",
    "print(I)"
   ]
  },
  {
   "cell_type": "markdown",
   "metadata": {},
   "source": [
    "in the simulation R2 is unchanched. For R4 the simulation is done with 100kΩ, 500kΩ, 1MΩ and 10MΩ."
   ]
  },
  {
   "cell_type": "markdown",
   "metadata": {},
   "source": [
    "# references\n",
    "\n",
    "1. [CD4069](https://www.ti.com/lit/ds/schs054e/schs054e.pdf) Datasheet\n",
    "2. [UBE Screamer](http://www.runoffgroove.com/ubescreamer.html) TS-808 workalike built around the CD4049UBE logic IC\n",
    "3. [WASP Filter](https://www.schmitzbits.de/wasp.html) Jürgen Haibles clone of the EDP Wasp VCF from René Schmitz."
   ]
  }
 ],
 "metadata": {
  "FrontMatter": {
   "author": "spielhuus",
   "categories": [
    "article"
   ],
   "date": "2021-01-04",
   "excerpt": "LED drivers for illuminating the modules.",
   "hero_image": "licht_hero.jpg",
   "hero_mobile": "arbeitsplatz-hero_portrait.jpg",
   "image": "licht_image.jpg",
   "layout": "article",
   "subtitle": "Iluminating the front panels is cool. In this article the color codes are described and shows some LED driver examples.",
   "tags": [
    "grundlage"
   ],
   "title": "licht",
   "version": "0"
  },
  "kernelspec": {
   "display_name": "Python 3 (ipykernel)",
   "language": "python",
   "name": "python3"
  },
  "language_info": {
   "codemirror_mode": {
    "name": "ipython",
    "version": 3
   },
   "file_extension": ".py",
   "mimetype": "text/x-python",
   "name": "python",
   "nbconvert_exporter": "python",
   "pygments_lexer": "ipython3",
   "version": "3.11.4"
  }
 },
 "nbformat": 4,
 "nbformat_minor": 4
}
